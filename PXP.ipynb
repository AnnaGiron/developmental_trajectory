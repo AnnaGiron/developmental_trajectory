{
 "cells": [
  {
   "cell_type": "code",
   "execution_count": 1,
   "metadata": {},
   "outputs": [],
   "source": [
    "# code replicated from https://github.com/charleywu/graphInference/blob/master/analyses/PXP.ipynb"
   ]
  },
  {
   "cell_type": "code",
   "execution_count": 4,
   "metadata": {
    "ExecuteTime": {
     "end_time": "2022-02-21T11:09:25.714427Z",
     "start_time": "2022-02-21T11:09:25.711662Z"
    },
    "scrolled": true
   },
   "outputs": [],
   "source": [
    "import matplotlib.pyplot as plt\n",
    "import numpy as np\n",
    "import pandas as pd \n",
    "\n",
    "from bms import GroupBMC #https://github.com/cpilab/group-bayesian-model-comparison"
   ]
  },
  {
   "cell_type": "markdown",
   "metadata": {},
   "source": [
    "### Protected exceedance probability across all age groups"
   ]
  },
  {
   "cell_type": "code",
   "execution_count": 11,
   "metadata": {
    "ExecuteTime": {
     "end_time": "2022-02-21T11:18:35.260379Z",
     "start_time": "2022-02-21T11:18:35.255296Z"
    }
   },
   "outputs": [],
   "source": [
    "#Load data\n",
    "m = -pd.read_csv('modelResults/pxp/nLL.csv', sep=',',  header=None).to_numpy().T\n",
    "#make negative (i.e., log likelihoods from nLLs) and transpose"
   ]
  },
  {
   "cell_type": "code",
   "execution_count": 12,
   "metadata": {
    "ExecuteTime": {
     "end_time": "2022-02-21T11:18:35.905978Z",
     "start_time": "2022-02-21T11:18:35.898690Z"
    }
   },
   "outputs": [],
   "source": [
    "#compute pxp\n",
    "result = GroupBMC(m).get_result().protected_exceedance_probability\n",
    "result =  result.reshape(1, result.shape[0]) #reshape from column vector to row vector\n",
    "#Save\n",
    "np.savetxt('modelResults/pxp/PXP.csv', result, delimiter=',')"
   ]
  },
  {
   "cell_type": "code",
   "execution_count": 13,
   "metadata": {
    "ExecuteTime": {
     "end_time": "2022-02-21T11:18:36.439403Z",
     "start_time": "2022-02-21T11:18:36.435543Z"
    }
   },
   "outputs": [
    {
     "data": {
      "text/plain": [
       "array([[9.99999904e-01, 4.71278773e-14, 9.54592740e-08, 6.43033595e-10]])"
      ]
     },
     "execution_count": 13,
     "metadata": {},
     "output_type": "execute_result"
    }
   ],
   "source": [
    "result\n",
    "# GP-UCB, BMT-UCB, 'GP-GM', 'GP-EG'"
   ]
  },
  {
   "cell_type": "markdown",
   "metadata": {},
   "source": [
    "### Protected exceedance probability for each age group individually"
   ]
  },
  {
   "cell_type": "markdown",
   "metadata": {},
   "source": [
    "#### Age group 5-6"
   ]
  },
  {
   "cell_type": "code",
   "execution_count": 14,
   "metadata": {
    "ExecuteTime": {
     "end_time": "2022-02-21T11:18:37.838196Z",
     "start_time": "2022-02-21T11:18:37.833503Z"
    }
   },
   "outputs": [],
   "source": [
    "#Load data\n",
    "m1 = -pd.read_csv('modelResults/pxp/nLL5-6.csv', sep=',',  header=None).to_numpy().T\n",
    "#make negative (i.e., negative log likelihoods) and transpose"
   ]
  },
  {
   "cell_type": "code",
   "execution_count": 16,
   "metadata": {
    "ExecuteTime": {
     "end_time": "2022-02-21T11:18:47.359911Z",
     "start_time": "2022-02-21T11:18:47.346922Z"
    }
   },
   "outputs": [
    {
     "data": {
      "text/plain": [
       "array([[0.60205257, 0.06632617, 0.06586501, 0.26575625]])"
      ]
     },
     "execution_count": 16,
     "metadata": {},
     "output_type": "execute_result"
    }
   ],
   "source": [
    "#compute pxp\n",
    "result1 = GroupBMC(m1).get_result().protected_exceedance_probability\n",
    "result1 =  result1.reshape(1, result1.shape[0]) #reshape from column vector to row vector\n",
    "#Save\n",
    "np.savetxt('modelResults/pxp/PXP5-6.csv', result1, delimiter=',')\n",
    "result1"
   ]
  },
  {
   "cell_type": "markdown",
   "metadata": {},
   "source": [
    "#### Age group 7-8"
   ]
  },
  {
   "cell_type": "code",
   "execution_count": 17,
   "metadata": {
    "ExecuteTime": {
     "end_time": "2022-02-21T11:19:06.430604Z",
     "start_time": "2022-02-21T11:19:06.425719Z"
    }
   },
   "outputs": [],
   "source": [
    "#Load data\n",
    "m2 = -pd.read_csv('modelResults/pxp/nLL7-8.csv', sep=',',  header=None).to_numpy().T\n",
    "#make negative (i.e., negative log likelihoods) and transpose"
   ]
  },
  {
   "cell_type": "code",
   "execution_count": 18,
   "metadata": {
    "ExecuteTime": {
     "end_time": "2022-02-21T11:19:06.983972Z",
     "start_time": "2022-02-21T11:19:06.970136Z"
    }
   },
   "outputs": [
    {
     "data": {
      "text/plain": [
       "array([[9.99850765e-01, 6.89827869e-12, 1.63205928e-10, 1.49234499e-04]])"
      ]
     },
     "execution_count": 18,
     "metadata": {},
     "output_type": "execute_result"
    }
   ],
   "source": [
    "#compute pxp\n",
    "result2 = GroupBMC(m2).get_result().protected_exceedance_probability\n",
    "result2 =  result2.reshape(1, result2.shape[0]) #reshape from column vector to row vector\n",
    "#Save\n",
    "np.savetxt('modelResults/pxp/PXP7-8.csv', result2, delimiter=',')\n",
    "result2"
   ]
  },
  {
   "cell_type": "markdown",
   "metadata": {},
   "source": [
    "#### Age group 9-10"
   ]
  },
  {
   "cell_type": "code",
   "execution_count": 19,
   "metadata": {
    "ExecuteTime": {
     "end_time": "2022-02-21T11:19:15.038076Z",
     "start_time": "2022-02-21T11:19:15.033277Z"
    }
   },
   "outputs": [],
   "source": [
    "#Load data\n",
    "m3 = -pd.read_csv('modelResults/pxp/nLL9-10.csv', sep=',',  header=None).to_numpy().T\n",
    "#make negative (i.e., negative log likelihoods) and transpose"
   ]
  },
  {
   "cell_type": "code",
   "execution_count": 20,
   "metadata": {
    "ExecuteTime": {
     "end_time": "2022-02-21T11:19:15.733107Z",
     "start_time": "2022-02-21T11:19:15.720182Z"
    }
   },
   "outputs": [
    {
     "data": {
      "text/plain": [
       "array([[9.99761141e-01, 2.07472079e-06, 2.22760086e-04, 1.40246270e-05]])"
      ]
     },
     "execution_count": 20,
     "metadata": {},
     "output_type": "execute_result"
    }
   ],
   "source": [
    "#compute pxp\n",
    "result3 = GroupBMC(m3).get_result().protected_exceedance_probability\n",
    "result3 =  result3.reshape(1, result3.shape[0]) #reshape from column vector to row vector\n",
    "#Save\n",
    "np.savetxt('modelResults/pxp/PXP9-10.csv', result3, delimiter=',')\n",
    "result3"
   ]
  },
  {
   "cell_type": "markdown",
   "metadata": {},
   "source": [
    "#### Age group 11-13"
   ]
  },
  {
   "cell_type": "code",
   "execution_count": 21,
   "metadata": {
    "ExecuteTime": {
     "end_time": "2022-02-21T11:19:23.591818Z",
     "start_time": "2022-02-21T11:19:23.586331Z"
    }
   },
   "outputs": [],
   "source": [
    "#Load data\n",
    "m4 = -pd.read_csv('modelResults/pxp/nLL11-13.csv', sep=',',  header=None).to_numpy().T\n",
    "#make negative (i.e., negative log likelihoods) and transpose"
   ]
  },
  {
   "cell_type": "code",
   "execution_count": 22,
   "metadata": {
    "ExecuteTime": {
     "end_time": "2022-02-21T11:19:24.105616Z",
     "start_time": "2022-02-21T11:19:24.092275Z"
    }
   },
   "outputs": [
    {
     "data": {
      "text/plain": [
       "array([[9.99998446e-01, 8.64632811e-08, 1.44296876e-06, 2.44956169e-08]])"
      ]
     },
     "execution_count": 22,
     "metadata": {},
     "output_type": "execute_result"
    }
   ],
   "source": [
    "#compute pxp\n",
    "result4 = GroupBMC(m4).get_result().protected_exceedance_probability\n",
    "result4 =  result4.reshape(1, result4.shape[0]) #reshape from column vector to row vector\n",
    "#Save\n",
    "np.savetxt('modelResults/pxp/PXP11-13.csv', result4, delimiter=',')\n",
    "result4"
   ]
  },
  {
   "cell_type": "markdown",
   "metadata": {},
   "source": [
    "#### Age group 14-17"
   ]
  },
  {
   "cell_type": "code",
   "execution_count": 23,
   "metadata": {
    "ExecuteTime": {
     "end_time": "2022-02-21T11:19:31.729864Z",
     "start_time": "2022-02-21T11:19:31.724651Z"
    }
   },
   "outputs": [],
   "source": [
    "#Load data\n",
    "m5 = -pd.read_csv('modelResults/pxp/nLL14-17.csv', sep=',',  header=None).to_numpy().T\n",
    "#make negative (i.e., negative log likelihoods) and transpose"
   ]
  },
  {
   "cell_type": "code",
   "execution_count": 24,
   "metadata": {
    "ExecuteTime": {
     "end_time": "2022-02-21T11:19:32.321068Z",
     "start_time": "2022-02-21T11:19:32.308563Z"
    }
   },
   "outputs": [
    {
     "data": {
      "text/plain": [
       "array([[9.97422736e-01, 3.39328540e-04, 1.94435520e-03, 2.93579951e-04]])"
      ]
     },
     "execution_count": 24,
     "metadata": {},
     "output_type": "execute_result"
    }
   ],
   "source": [
    "#compute pxp\n",
    "result5 = GroupBMC(m5).get_result().protected_exceedance_probability\n",
    "result5 =  result5.reshape(1, result5.shape[0]) #reshape from column vector to row vector\n",
    "#Save\n",
    "np.savetxt('modelResults/pxp/PXP14-17.csv', result5, delimiter=',')\n",
    "result5"
   ]
  },
  {
   "cell_type": "markdown",
   "metadata": {},
   "source": [
    "#### Age group 18-24"
   ]
  },
  {
   "cell_type": "code",
   "execution_count": 25,
   "metadata": {
    "ExecuteTime": {
     "end_time": "2022-02-21T11:19:39.360367Z",
     "start_time": "2022-02-21T11:19:39.355249Z"
    }
   },
   "outputs": [],
   "source": [
    "#Load data\n",
    "m6 = -pd.read_csv('modelResults/pxp/nLL18-24.csv', sep=',',  header=None).to_numpy().T\n",
    "#make negative (i.e., negative log likelihoods) and transpose"
   ]
  },
  {
   "cell_type": "code",
   "execution_count": 26,
   "metadata": {
    "ExecuteTime": {
     "end_time": "2022-02-21T11:19:40.094535Z",
     "start_time": "2022-02-21T11:19:40.082173Z"
    }
   },
   "outputs": [
    {
     "data": {
      "text/plain": [
       "array([[9.99995766e-01, 2.97307714e-06, 1.26124434e-06, 8.75917683e-11]])"
      ]
     },
     "execution_count": 26,
     "metadata": {},
     "output_type": "execute_result"
    }
   ],
   "source": [
    "#compute pxp\n",
    "result6 = GroupBMC(m6).get_result().protected_exceedance_probability\n",
    "result6 =  result6.reshape(1, result6.shape[0]) #reshape from column vector to row vector\n",
    "#Save\n",
    "np.savetxt('modelResults/pxp/PXP18-24.csv', result6, delimiter=',')\n",
    "result6"
   ]
  },
  {
   "cell_type": "markdown",
   "metadata": {},
   "source": [
    "#### Age group 25-55"
   ]
  },
  {
   "cell_type": "code",
   "execution_count": 27,
   "metadata": {
    "ExecuteTime": {
     "end_time": "2022-02-21T11:19:45.473770Z",
     "start_time": "2022-02-21T11:19:45.468851Z"
    }
   },
   "outputs": [],
   "source": [
    "#Load data\n",
    "m7 = -pd.read_csv('modelResults/pxp/nLL25-55.csv', sep=',',  header=None).to_numpy().T\n",
    "#make negative (i.e., negative log likelihoods) and transpose"
   ]
  },
  {
   "cell_type": "code",
   "execution_count": 28,
   "metadata": {
    "ExecuteTime": {
     "end_time": "2022-02-21T11:19:46.034561Z",
     "start_time": "2022-02-21T11:19:46.021848Z"
    }
   },
   "outputs": [
    {
     "data": {
      "text/plain": [
       "array([[9.98342945e-01, 2.26638095e-04, 1.41704377e-03, 1.33734881e-05]])"
      ]
     },
     "execution_count": 28,
     "metadata": {},
     "output_type": "execute_result"
    }
   ],
   "source": [
    "#compute pxp\n",
    "result7 = GroupBMC(m7).get_result().protected_exceedance_probability\n",
    "result7 =  result7.reshape(1, result7.shape[0]) #reshape from column vector to row vector\n",
    "#Save\n",
    "np.savetxt('modelResults/pxp/PXP25-55.csv', result7, delimiter=',')\n",
    "result7"
   ]
  },
  {
   "cell_type": "code",
   "execution_count": null,
   "metadata": {},
   "outputs": [],
   "source": []
  }
 ],
 "metadata": {
  "kernelspec": {
   "display_name": "Python 3 (ipykernel)",
   "language": "python",
   "name": "python3"
  },
  "language_info": {
   "codemirror_mode": {
    "name": "ipython",
    "version": 3
   },
   "file_extension": ".py",
   "mimetype": "text/x-python",
   "name": "python",
   "nbconvert_exporter": "python",
   "pygments_lexer": "ipython3",
   "version": "3.8.8"
  },
  "toc": {
   "base_numbering": 1,
   "nav_menu": {},
   "number_sections": true,
   "sideBar": true,
   "skip_h1_title": false,
   "title_cell": "Table of Contents",
   "title_sidebar": "Contents",
   "toc_cell": false,
   "toc_position": {},
   "toc_section_display": true,
   "toc_window_display": false
  }
 },
 "nbformat": 4,
 "nbformat_minor": 2
}
